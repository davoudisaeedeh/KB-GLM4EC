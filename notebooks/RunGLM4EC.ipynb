{
 "cells": [
  {
   "cell_type": "code",
   "execution_count": 1,
   "metadata": {
    "pycharm": {
     "name": "#%%\n"
    }
   },
   "outputs": [
    {
     "name": "stdout",
     "output_type": "stream",
     "text": [
      "python version 3.9.13\n"
     ]
    },
    {
     "name": "stderr",
     "output_type": "stream",
     "text": [
      "2023-04-17 00:08:50.806292: I tensorflow/core/platform/cpu_feature_guard.cc:182] This TensorFlow binary is optimized to use available CPU instructions in performance-critical operations.\n",
      "To enable the following instructions: AVX2 FMA, in other operations, rebuild TensorFlow with the appropriate compiler flags.\n"
     ]
    }
   ],
   "source": [
    "import platform\n",
    "print(\"python version \" + platform.python_version())\n",
    "import sys\n",
    "import logging\n",
    "import jinja2\n",
    "import json\n",
    "from pathlib import Path\n",
    "from configparser import ConfigParser\n",
    "config = ConfigParser()\n",
    "config.read(\"../local_config.cfg\")\n",
    "confighash = {}\n",
    "for nameval in config.items('GLM4EC'):\n",
    "    confighash[nameval[0]] = nameval[1]\n",
    "token = None\n",
    "if Path(str(Path.home()) + '/.kbase/token').exists():\n",
    "    with open(str(Path.home()) + '/.kbase/token', 'r') as fh:\n",
    "        token = fh.read().strip()\n",
    "paths = config.get(\"script\", \"syspaths\").split(\";\")\n",
    "for path in paths:\n",
    "    sys.path.append(path)\n",
    "from GLM4EC.glm4ecmodule import GLM4ECModule"
   ]
  },
  {
   "cell_type": "code",
   "execution_count": 2,
   "metadata": {
    "pycharm": {
     "name": "#%%\n"
    }
   },
   "outputs": [],
   "source": [
    "glm4ec = GLM4ECModule(\"GLM4ECModule\",confighash,\"../\",\"../data/\",token)"
   ]
  },
  {
   "cell_type": "code",
   "execution_count": 3,
   "metadata": {
    "pycharm": {
     "name": "#%%\n"
    }
   },
   "outputs": [
    {
     "name": "stderr",
     "output_type": "stream",
     "text": [
      "1680318564.586914 INFO: annotate_proteins:{\n",
      "    \"proteins\": {\n",
      "        \"A0A820Q4W8\": \"MNININSSLKKLICNARMGKLRQKEREVAARASAAEIYYVSQRTLRYTIRNPVLFLAQVVVAIVLGLVVGFVFNSLEKSIDPGIQNRLGAIFFMVVSQTLGTITSLEPLIKKRVSYIHKTISAYYRTTTFFIVKVICDVLSMRIVSSILFSLIAYCMTGLEQSAG\",\n",
      "        \"A0A7Z7NP06\": \"MASQSPAPQRADLLFRHATVVDGTGATRRTADVAVTGDRIIAVGDCAGIAADHTVDCSGRVLAPGFIDAHTHDDGYLLVHRDMTPKVSQGITTVVTGNCGISVAPLVSGAPPQPLDLLGPPALFRFDTFAQWLDALRAAPANVNVVPLLGHSTLRVRAMPELDRPANDAEIAAMRDEVRLAMEAGAFGVSTGTFYPPAAAATEAEIVAVCGPVRSHGGIYSTHLRDETDAIVPSIEEALRIGRALDCPVVFSHHKVAGKRNHGRSVETLGLLAEAARLQPLCLDCHPYPATSTMLRLDRVRQSTRTLITWSTGYPAAGGRDFHELMQELGLDEEALLARLRPAAAIYFIMDERDVARIAQFPLTIFGSDGLPFDPRPHPRQWGTFPRILARMVREDQLMTLEAAIHKMSGLAAQQYGLEDRGRIAPGAFADLVLFDAGRVQDRATFEDPLQLSTGIDGVWVNGAQVWQQSARDGAGDTAGSALPAFSGRVLRRLASDNPSAARR\"\n",
      "    }\n",
      "}\n",
      "1680318566.173119 WARNING: `lr` is deprecated in Keras optimizer, please use `learning_rate` or use the legacy optimizer, e.g.,tf.keras.optimizers.legacy.Adam.\n"
     ]
    },
    {
     "name": "stdout",
     "output_type": "stream",
     "text": [
      "1/1 [==============================] - 1s 1s/step\n"
     ]
    },
    {
     "name": "stderr",
     "output_type": "stream",
     "text": [
      "1680318569.1404002 WARNING: `lr` is deprecated in Keras optimizer, please use `learning_rate` or use the legacy optimizer, e.g.,tf.keras.optimizers.legacy.Adam.\n"
     ]
    },
    {
     "name": "stdout",
     "output_type": "stream",
     "text": [
      "1/1 [==============================] - 1s 1s/step\n",
      "self.working_dir: ../data/\n"
     ]
    },
    {
     "data": {
      "text/plain": [
       "{'filename': '../data//annotations.tsv'}"
      ]
     },
     "execution_count": 3,
     "metadata": {},
     "output_type": "execute_result"
    }
   ],
   "source": [
    "PROTEINS = {\"A0A820Q4W8\":\"MNININSSLKKLICNARMGKLRQKEREVAARASAAEIYYVSQRTLRYTIRNPVLFLAQVVVAIVLGLVVGFVFNSLEKSIDPGIQNRLGAIFFMVVSQTLGTITSLEPLIKKRVSYIHKTISAYYRTTTFFIVKVICDVLSMRIVSSILFSLIAYCMTGLEQSAG\", \"A0A7Z7NP06\":\"MASQSPAPQRADLLFRHATVVDGTGATRRTADVAVTGDRIIAVGDCAGIAADHTVDCSGRVLAPGFIDAHTHDDGYLLVHRDMTPKVSQGITTVVTGNCGISVAPLVSGAPPQPLDLLGPPALFRFDTFAQWLDALRAAPANVNVVPLLGHSTLRVRAMPELDRPANDAEIAAMRDEVRLAMEAGAFGVSTGTFYPPAAAATEAEIVAVCGPVRSHGGIYSTHLRDETDAIVPSIEEALRIGRALDCPVVFSHHKVAGKRNHGRSVETLGLLAEAARLQPLCLDCHPYPATSTMLRLDRVRQSTRTLITWSTGYPAAGGRDFHELMQELGLDEEALLARLRPAAAIYFIMDERDVARIAQFPLTIFGSDGLPFDPRPHPRQWGTFPRILARMVREDQLMTLEAAIHKMSGLAAQQYGLEDRGRIAPGAFADLVLFDAGRVQDRATFEDPLQLSTGIDGVWVNGAQVWQQSARDGAGDTAGSALPAFSGRVLRRLASDNPSAARR\"}\n",
    "glm4ec.annotate_proteins({\"proteins\":PROTEINS})"
   ]
  },
  {
   "cell_type": "code",
   "execution_count": 7,
   "metadata": {
    "pycharm": {
     "name": "#%%\n"
    }
   },
   "outputs": [],
   "source": [
    "context = {\n",
    "    \"title\":\"GLM4EC Results\",\n",
    "    \"table_columns\":[{\n",
    "            \"data\": \"Object\"\n",
    "        },{\n",
    "            \"data\": \"Type\"\n",
    "        },{\n",
    "            \"data\": \"Total genes\"\n",
    "        },{\n",
    "            \"data\": \"Annotated genes\"\n",
    "        }],\n",
    "    \"table_headers\":\"<th>Object</th><th>Type</th><th>Total genes</th><th>Annotated genes</th>\"\n",
    "}\n",
    "env = jinja2.Environment(\n",
    "    loader=jinja2.FileSystemLoader(\"../data/\"),\n",
    "    autoescape=jinja2.select_autoescape(['html', 'xml']))\n",
    "# Return string of html\n",
    "html = env.get_template(\"ReportTemplate.html\").render(context)\n",
    "with open(\"../test_local/workdir/tmp/html/test.html\", 'w') as fid:\n",
    "    fid.write(html)"
   ]
  },
  {
   "cell_type": "code",
   "execution_count": null,
   "metadata": {},
   "outputs": [],
   "source": []
  }
 ],
 "metadata": {
  "kernelspec": {
   "display_name": "Python 3 (ipykernel)",
   "language": "python",
   "name": "python3"
  },
  "language_info": {
   "codemirror_mode": {
    "name": "ipython",
    "version": 3
   },
   "file_extension": ".py",
   "mimetype": "text/x-python",
   "name": "python",
   "nbconvert_exporter": "python",
   "pygments_lexer": "ipython3",
   "version": "3.9.13"
  }
 },
 "nbformat": 4,
 "nbformat_minor": 4
}
