{
 "cells": [
  {
   "cell_type": "code",
   "execution_count": 1,
   "metadata": {},
   "outputs": [
    {
     "name": "stdout",
     "output_type": "stream",
     "text": [
      "python version 3.7.6\n"
     ]
    }
   ],
   "source": [
    "import platform\n",
    "print(\"python version \" + platform.python_version())\n",
    "import sys\n",
    "import json\n",
    "import os\n",
    "from os.path import exists\n",
    "import logging\n",
    "from configparser import ConfigParser\n",
    "config = ConfigParser()\n",
    "config.read(\"../local_config.cfg\")\n",
    "paths = config.get(\"script\", \"syspaths\").split(\";\")\n",
    "for path in paths:\n",
    "    sys.path.append(path)\n",
    "from GLM4EC.glm4ecmodule import GLM4ECModule\n",
    "from installed_clients.WorkspaceClient import Workspace"
   ]
  },
  {
   "cell_type": "code",
   "execution_count": 2,
   "metadata": {},
   "outputs": [],
   "source": [
    "wsclient = Workspace(\"https://appdev.kbase.us/services/ws\", token=\"<put your KBase token here\")\n",
    "glm4ec = GLM4ECModule(\"GLM4ECModule\",wsclient,\"../data/\",\"../\",{})"
   ]
  },
  {
   "cell_type": "code",
   "execution_count": 4,
   "metadata": {},
   "outputs": [
    {
     "name": "stdout",
     "output_type": "stream",
     "text": [
      "MKRISTTITTTITITTGNGAG\n"
     ]
    },
    {
     "data": {
      "text/plain": [
       "{'annotation': {}}"
      ]
     },
     "execution_count": 4,
     "metadata": {},
     "output_type": "execute_result"
    }
   ],
   "source": [
    "glm4ec.annotate_proteins({\"proteins\":{\"b0001\":\"MKRISTTITTTITITTGNGAG\"}})"
   ]
  },
  {
   "cell_type": "code",
   "execution_count": null,
   "metadata": {},
   "outputs": [],
   "source": []
  }
 ],
 "metadata": {
  "kernelspec": {
   "display_name": "Python 3",
   "language": "python",
   "name": "python3"
  },
  "language_info": {
   "codemirror_mode": {
    "name": "ipython",
    "version": 3
   },
   "file_extension": ".py",
   "mimetype": "text/x-python",
   "name": "python",
   "nbconvert_exporter": "python",
   "pygments_lexer": "ipython3",
   "version": "3.7.6"
  }
 },
 "nbformat": 4,
 "nbformat_minor": 4
}
